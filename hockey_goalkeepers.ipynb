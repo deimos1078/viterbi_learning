{
 "cells": [
  {
   "cell_type": "code",
   "execution_count": 1,
   "id": "initial_id",
   "metadata": {
    "collapsed": true,
    "ExecuteTime": {
     "end_time": "2024-03-13T10:30:33.200527950Z",
     "start_time": "2024-03-13T10:30:33.186310216Z"
    }
   },
   "outputs": [],
   "source": [
    "from viterbi import viterbi\n",
    "from find_best_parameters import find_best_parameters"
   ]
  },
  {
   "cell_type": "code",
   "outputs": [],
   "source": [
    "emissions = tuple(emission for emission in '01000000100000000000001000000010001010010001001001')"
   ],
   "metadata": {
    "collapsed": false,
    "ExecuteTime": {
     "end_time": "2024-03-13T10:30:33.200973090Z",
     "start_time": "2024-03-13T10:30:33.199070739Z"
    }
   },
   "id": "5857bdfd79ff0db1",
   "execution_count": 2
  },
  {
   "cell_type": "markdown",
   "source": [
    "Napište program (který použijete v dalším příkladu) pro výpočet pravděpodobnostních parametrů ze známého rozložení transmisí a emisí. Vstupní data:\n",
    "\n",
    "    pro kontrolu sada z přednášky\n",
    "\n",
    "        01000000100000000000001000000010001010010001001001\n",
    "        PPPMMMMMMMMMMMMMMMMMMMMMMMMMMPPPPPPPPPPPPPPPPPPPPP \n",
    "\n",
    "    parametry pro nejpravděpodobnější výsledek..\n",
    "\n",
    "        01000000100000000000001000000010001010010001001001\n",
    "        MMMMMMMMMMMMMMMMMMMMMMMMMMMMMPPPPPPPPPPPPPPPPPPPPP \n",
    "\n",
    "    ..porovnejte se zadanými z obrázku\n",
    "    \n",
    "Zkuste zapomenout, že model má již nějaké parametry, a navrhněte vlastní počáteční hodnoty pro pravděpodobnosti transmisí (výměna brankářů) a emisí (chycení nebo puštění branky). Následně aplikujte na tento upravený model iterační algoritmus Viterbiho učení a porovnejte, zda se získané pravděpodobnosti blíží těm z obrázku.\n",
    "PS: Pstností parametry musí pochopitelně splňovat příslušná omezení (jako je sumace do jedničky a podobně). \n"
   ],
   "metadata": {
    "collapsed": false
   },
   "id": "e423a21b1264a5e2"
  },
  {
   "cell_type": "code",
   "outputs": [],
   "source": [
    "inner_states_presentation = tuple(state for state in 'PPPMMMMMMMMMMMMMMMMMMMMMMMMMMPPPPPPPPPPPPPPPPPPPPP')\n",
    "inner_states_most_probable = tuple(state for state in 'MMMMMMMMMMMMMMMMMMMMMMMMMMMMMPPPPPPPPPPPPPPPPPPPPP')"
   ],
   "metadata": {
    "collapsed": false,
    "ExecuteTime": {
     "end_time": "2024-03-13T10:30:33.221304761Z",
     "start_time": "2024-03-13T10:30:33.202763176Z"
    }
   },
   "id": "eecc9cf93ebcd95c",
   "execution_count": 3
  },
  {
   "cell_type": "code",
   "outputs": [],
   "source": [
    "def format_output(output):\n",
    "    start_probabilities, transition_probabilities, emission_probabilities = output\n",
    "    print(\"Starting probabilities:\")\n",
    "    for key in start_probabilities.keys():\n",
    "        print(f\"{key} : {round(start_probabilities[key] * 100, 2)}%\")\n",
    "        \n",
    "    print(\"Transition probabilities:\")\n",
    "    for from_state in transition_probabilities.keys():\n",
    "        for to_state in transition_probabilities[from_state].keys():\n",
    "            print(f\"{from_state} -> {to_state} : {round(transition_probabilities[from_state][to_state] * 100, 2)}%\")\n",
    "            \n",
    "    print(\"Emission probabilities:\")\n",
    "    for state in emission_probabilities.keys():\n",
    "        for emission in emission_probabilities[state].keys():\n",
    "            print(f\"{state} -> {emission} : {round(emission_probabilities[state][emission] * 100, 2)}%\")"
   ],
   "metadata": {
    "collapsed": false,
    "ExecuteTime": {
     "end_time": "2024-03-13T10:30:33.224221791Z",
     "start_time": "2024-03-13T10:30:33.221554698Z"
    }
   },
   "id": "1f2438041214c758",
   "execution_count": 4
  },
  {
   "cell_type": "markdown",
   "source": [
    "Predicted probabilities:"
   ],
   "metadata": {
    "collapsed": false
   },
   "id": "447ae364ddcc3832"
  },
  {
   "cell_type": "code",
   "outputs": [
    {
     "name": "stdout",
     "output_type": "stream",
     "text": [
      "Initial inner states: PPPMMMMMMMMMMMMMMMMMMMMMMMMMMPPPPPPPPPPPPPPPPPPPPP\n",
      "#0: \n",
      "Probabilities estimates: \n",
      "{'P': 0.5, 'M': 0.5} {'P': {'P': 0.9565217391304348, 'M': 0.043478260869565216}, 'M': {'P': 0.038461538461538464, 'M': 0.9615384615384616}} {'P': {'1': 0.3333333333333333, '0': 0.6666666666666666}, 'M': {'1': 0.07692307692307693, '0': 0.9230769230769231}}\n",
      "Most probable path: PMMMMMMMMMMMMMMMMMMMMMMMMMMMMMPPPPPPPPPPPPPPPPPPPP\n",
      "#1: \n",
      "Probabilities estimates: \n",
      "{'P': 0.5, 'M': 0.5} {'P': {'P': 0.95, 'M': 0.05}, 'M': {'P': 0.034482758620689655, 'M': 0.9655172413793104}} {'P': {'1': 0.3333333333333333, '0': 0.6666666666666666}, 'M': {'1': 0.10344827586206896, '0': 0.896551724137931}}\n",
      "Most probable path: PMMMMMMMMMMMMMMMMMMMMMMMMMMMMMPPPPPPPPPPPPPPPPPPPP\n",
      "Total viterbi iterations: 2\n",
      "Starting probabilities:\n",
      "P : 50.0%\n",
      "M : 50.0%\n",
      "Transition probabilities:\n",
      "P -> P : 95.0%\n",
      "P -> M : 5.0%\n",
      "M -> P : 3.45%\n",
      "M -> M : 96.55%\n",
      "Emission probabilities:\n",
      "P -> 1 : 33.33%\n",
      "P -> 0 : 66.67%\n",
      "M -> 1 : 10.34%\n",
      "M -> 0 : 89.66%\n"
     ]
    }
   ],
   "source": [
    "params = find_best_parameters(emissions, inner_states_presentation, max_iterations=100)\n",
    "format_output(params)"
   ],
   "metadata": {
    "collapsed": false,
    "ExecuteTime": {
     "end_time": "2024-03-13T10:30:33.224990160Z",
     "start_time": "2024-03-13T10:30:33.221702071Z"
    }
   },
   "id": "9c27104a2007a49",
   "execution_count": 5
  },
  {
   "cell_type": "markdown",
   "source": [
    "The algorithm hit the maximum very quickly - in two iterations.\n",
    "The immediate issue that can be seen is that on the second guess of the inner streams, \n",
    "there are transitions from P to M, which sort of locks in the prediction of inners states\n",
    "and stabilizes the output parameters."
   ],
   "metadata": {
    "collapsed": false
   },
   "id": "5e488d46270bb6ec"
  },
  {
   "cell_type": "code",
   "outputs": [
    {
     "name": "stdout",
     "output_type": "stream",
     "text": [
      "O: 01000000100000000000001000000010001010010001001001\n",
      "Final viterbi\n",
      "I: PMMMMMMMMMMMMMMMMMMMMMMMMMMMMMPPPPPPPPPPPPPPPPPPPP\n",
      "Starting inner state sequence\n",
      "I: PPPMMMMMMMMMMMMMMMMMMMMMMMMMMPPPPPPPPPPPPPPPPPPPPP\n"
     ]
    }
   ],
   "source": [
    "optimal_path = viterbi(emissions, set(params[0].keys()), params[0], params[1], params[2])\n",
    "print(\"O: \" + \"\".join(emissions))\n",
    "print(\"Final viterbi\")\n",
    "print(\"I: \" + \"\".join(optimal_path))\n",
    "print(\"Starting inner state sequence\")\n",
    "print(\"I: \" + \"\".join(inner_states_presentation))"
   ],
   "metadata": {
    "collapsed": false,
    "ExecuteTime": {
     "end_time": "2024-03-13T10:30:33.239756613Z",
     "start_time": "2024-03-13T10:30:33.223931004Z"
    }
   },
   "id": "a402e43a160045be",
   "execution_count": 6
  },
  {
   "cell_type": "code",
   "outputs": [
    {
     "name": "stdout",
     "output_type": "stream",
     "text": [
      "Initial inner states: MMMMMMMMMMMMMMMMMMMMMMMMMMMMMPPPPPPPPPPPPPPPPPPPPP\n",
      "#0: \n",
      "Probabilities estimates: \n",
      "{'M': 0.5, 'P': 0.5} {'M': {'M': 0.9655172413793104, 'P': 0.034482758620689655}, 'P': {'M': 0.0, 'P': 1.0}} {'M': {'1': 0.10344827586206896, '0': 0.896551724137931}, 'P': {'1': 0.3333333333333333, '0': 0.6666666666666666}}\n",
      "Most probable path: MMMMMMMMMMMMMMMMMMMMMMMMMMMMMPPPPPPPPPPPPPPPPPPPPP\n",
      "#1: \n",
      "Probabilities estimates: \n",
      "{'M': 0.5, 'P': 0.5} {'M': {'M': 0.9655172413793104, 'P': 0.034482758620689655}, 'P': {'M': 0.0, 'P': 1.0}} {'M': {'1': 0.10344827586206896, '0': 0.896551724137931}, 'P': {'1': 0.3333333333333333, '0': 0.6666666666666666}}\n",
      "Most probable path: MMMMMMMMMMMMMMMMMMMMMMMMMMMMMPPPPPPPPPPPPPPPPPPPPP\n",
      "Total viterbi iterations: 2\n",
      "Starting probabilities:\n",
      "M : 50.0%\n",
      "P : 50.0%\n",
      "Transition probabilities:\n",
      "M -> M : 96.55%\n",
      "M -> P : 3.45%\n",
      "P -> M : 0.0%\n",
      "P -> P : 100.0%\n",
      "Emission probabilities:\n",
      "M -> 1 : 10.34%\n",
      "M -> 0 : 89.66%\n",
      "P -> 1 : 33.33%\n",
      "P -> 0 : 66.67%\n"
     ]
    }
   ],
   "source": [
    "params_most_prob = find_best_parameters(emissions, inner_states_most_probable, max_iterations=100)\n",
    "format_output(params_most_prob)"
   ],
   "metadata": {
    "collapsed": false,
    "ExecuteTime": {
     "end_time": "2024-03-13T10:30:33.250080331Z",
     "start_time": "2024-03-13T10:30:33.236588898Z"
    }
   },
   "id": "c42fee524af96c75",
   "execution_count": 7
  },
  {
   "cell_type": "code",
   "outputs": [
    {
     "name": "stdout",
     "output_type": "stream",
     "text": [
      "O: 01000000100000000000001000000010001010010001001001\n",
      "Final viterbi\n",
      "I: PMMMMMMMMMMMMMMMMMMMMMMMMMMMMMPPPPPPPPPPPPPPPPPPPP\n",
      "Starting inner state sequence\n",
      "I: MMMMMMMMMMMMMMMMMMMMMMMMMMMMMPPPPPPPPPPPPPPPPPPPPP\n"
     ]
    }
   ],
   "source": [
    "optimal_path_most_probable = viterbi(emissions, set(params_most_prob[0].keys()), params_most_prob[0], params_most_prob[1], params_most_prob[2])\n",
    "print(\"O: \" + \"\".join(emissions))\n",
    "print(\"Final viterbi\")\n",
    "print(\"I: \" + \"\".join(optimal_path))\n",
    "print(\"Starting inner state sequence\")\n",
    "print(\"I: \" + \"\".join(inner_states_most_probable))"
   ],
   "metadata": {
    "collapsed": false,
    "ExecuteTime": {
     "end_time": "2024-03-13T10:30:33.251952288Z",
     "start_time": "2024-03-13T10:30:33.236709346Z"
    }
   },
   "id": "abc6745f1cbc9ac8",
   "execution_count": 8
  },
  {
   "cell_type": "markdown",
   "source": [
    "We've reached the same maximum as before"
   ],
   "metadata": {
    "collapsed": false
   },
   "id": "7e7f52060af86257"
  },
  {
   "cell_type": "markdown",
   "source": [
    " Zopakuje si předchozí příklad, jen zkuste nastavit všechny pravděpodobnosti na 0,5. Doberete se tak stejného výsledku jako z originálních dat? "
   ],
   "metadata": {
    "collapsed": false
   },
   "id": "86b0e19339a10f40"
  },
  {
   "cell_type": "code",
   "outputs": [],
   "source": [
    "probabilities = (\n",
    "    {'M': 0.5, 'P': 0.5},\n",
    "    {'P': {'P': 0.5, 'M': 0.5}, 'M': {'P': 0.5, 'M': 0.5}},\n",
    "    {'P': {'1': 0.5, '0': 0.5}, 'M': {'1': 0.5, '0': 0.5}}\n",
    ")"
   ],
   "metadata": {
    "collapsed": false,
    "ExecuteTime": {
     "end_time": "2024-03-13T10:43:17.246793951Z",
     "start_time": "2024-03-13T10:43:17.201399505Z"
    }
   },
   "id": "3f6b3c4176cda2b9",
   "execution_count": 13
  },
  {
   "cell_type": "code",
   "outputs": [
    {
     "name": "stdout",
     "output_type": "stream",
     "text": [
      "Initial inner states: PPPMMMMMMMMMMMMMMMMMMMMMMMMMMPPPPPPPPPPPPPPPPPPPPP\n",
      "#0: \n",
      "Probabilities estimates: \n",
      "{'M': 0.5, 'P': 0.5} {'P': {'P': 0.5, 'M': 0.5}, 'M': {'P': 0.5, 'M': 0.5}} {'P': {'1': 0.5, '0': 0.5}, 'M': {'1': 0.5, '0': 0.5}}\n",
      "Most probable path: PPPPPPPPPPPPPPPPPPPPPPPPPPPPPPPPPPPPPPPPPPPPPPPPPP\n",
      "#1: \n",
      "Probabilities estimates: \n",
      "{'P': 0.5, 'M': 0.5} {'P': {'P': 1.0, 'M': 0.0}, 'M': {'P': 0.0, 'M': 0.0}} {'P': {'1': 0.2, '0': 0.8}, 'M': {'1': 0.0, '0': 0.0}}\n",
      "Most probable path: PPPPPPPPPPPPPPPPPPPPPPPPPPPPPPPPPPPPPPPPPPPPPPPPPP\n",
      "Total viterbi iterations: 2\n",
      "Starting probabilities:\n",
      "P : 50.0%\n",
      "M : 50.0%\n",
      "Transition probabilities:\n",
      "P -> P : 100.0%\n",
      "P -> M : 0.0%\n",
      "M -> P : 0.0%\n",
      "M -> M : 0.0%\n",
      "Emission probabilities:\n",
      "P -> 1 : 20.0%\n",
      "P -> 0 : 80.0%\n",
      "M -> 1 : 0.0%\n",
      "M -> 0 : 0.0%\n"
     ]
    }
   ],
   "source": [
    "params = find_best_parameters(emissions, inner_states_presentation, max_iterations=100, initial_probabilities=probabilities)\n",
    "format_output(params)"
   ],
   "metadata": {
    "collapsed": false,
    "ExecuteTime": {
     "end_time": "2024-03-13T10:43:17.843476888Z",
     "start_time": "2024-03-13T10:43:17.824690131Z"
    }
   },
   "id": "8181a5d281b97cf5",
   "execution_count": 14
  },
  {
   "cell_type": "code",
   "outputs": [
    {
     "name": "stdout",
     "output_type": "stream",
     "text": [
      "O: 01000000100000000000001000000010001010010001001001\n",
      "Final viterbi\n",
      "I: PPPPPPPPPPPPPPPPPPPPPPPPPPPPPPPPPPPPPPPPPPPPPPPPPP\n",
      "Starting inner state sequence\n",
      "I: PPPMMMMMMMMMMMMMMMMMMMMMMMMMMPPPPPPPPPPPPPPPPPPPPP\n"
     ]
    }
   ],
   "source": [
    "optimal_path = viterbi(emissions, set(params[0].keys()), params[0], params[1], params[2])\n",
    "print(\"O: \" + \"\".join(emissions))\n",
    "print(\"Final viterbi\")\n",
    "print(\"I: \" + \"\".join(optimal_path))\n",
    "print(\"Starting inner state sequence\")\n",
    "print(\"I: \" + \"\".join(inner_states_presentation))"
   ],
   "metadata": {
    "collapsed": false,
    "ExecuteTime": {
     "end_time": "2024-03-13T10:43:19.089559655Z",
     "start_time": "2024-03-13T10:43:19.068888564Z"
    }
   },
   "id": "6ad1f9a677b76522",
   "execution_count": 15
  },
  {
   "cell_type": "code",
   "outputs": [
    {
     "name": "stdout",
     "output_type": "stream",
     "text": [
      "Initial inner states: MMMMMMMMMMMMMMMMMMMMMMMMMMMMMPPPPPPPPPPPPPPPPPPPPP\n",
      "#0: \n",
      "Probabilities estimates: \n",
      "{'M': 0.5, 'P': 0.5} {'P': {'P': 0.5, 'M': 0.5}, 'M': {'P': 0.5, 'M': 0.5}} {'P': {'1': 0.5, '0': 0.5}, 'M': {'1': 0.5, '0': 0.5}}\n",
      "Most probable path: MMMMMMMMMMMMMMMMMMMMMMMMMMMMMMMMMMMMMMMMMMMMMMMMMM\n",
      "#1: \n",
      "Probabilities estimates: \n",
      "{'M': 0.5, 'P': 0.5} {'M': {'M': 1.0, 'P': 0.0}, 'P': {'M': 0.0, 'P': 0.0}} {'M': {'1': 0.2, '0': 0.8}, 'P': {'1': 0.0, '0': 0.0}}\n",
      "Most probable path: MMMMMMMMMMMMMMMMMMMMMMMMMMMMMMMMMMMMMMMMMMMMMMMMMM\n",
      "Total viterbi iterations: 2\n",
      "Starting probabilities:\n",
      "M : 50.0%\n",
      "P : 50.0%\n",
      "Transition probabilities:\n",
      "M -> M : 100.0%\n",
      "M -> P : 0.0%\n",
      "P -> M : 0.0%\n",
      "P -> P : 0.0%\n",
      "Emission probabilities:\n",
      "M -> 1 : 20.0%\n",
      "M -> 0 : 80.0%\n",
      "P -> 1 : 0.0%\n",
      "P -> 0 : 0.0%\n"
     ]
    }
   ],
   "source": [
    "params = find_best_parameters(emissions, inner_states_most_probable, max_iterations=100, initial_probabilities=probabilities)\n",
    "format_output(params)"
   ],
   "metadata": {
    "collapsed": false,
    "ExecuteTime": {
     "end_time": "2024-03-13T10:43:25.284507271Z",
     "start_time": "2024-03-13T10:43:25.278477707Z"
    }
   },
   "id": "6013cb898264723",
   "execution_count": 16
  },
  {
   "cell_type": "code",
   "outputs": [
    {
     "name": "stdout",
     "output_type": "stream",
     "text": [
      "O: 01000000100000000000001000000010001010010001001001\n",
      "Final viterbi\n",
      "I: MMMMMMMMMMMMMMMMMMMMMMMMMMMMMMMMMMMMMMMMMMMMMMMMMM\n",
      "Starting inner state sequence\n",
      "I: PPPMMMMMMMMMMMMMMMMMMMMMMMMMMPPPPPPPPPPPPPPPPPPPPP\n"
     ]
    }
   ],
   "source": [
    "optimal_path = viterbi(emissions, set(params[0].keys()), params[0], params[1], params[2])\n",
    "print(\"O: \" + \"\".join(emissions))\n",
    "print(\"Final viterbi\")\n",
    "print(\"I: \" + \"\".join(optimal_path))\n",
    "print(\"Starting inner state sequence\")\n",
    "print(\"I: \" + \"\".join(inner_states_presentation))"
   ],
   "metadata": {
    "collapsed": false,
    "ExecuteTime": {
     "end_time": "2024-03-13T10:43:42.878892148Z",
     "start_time": "2024-03-13T10:43:42.833522416Z"
    }
   },
   "id": "21a8809becff77af",
   "execution_count": 17
  },
  {
   "cell_type": "markdown",
   "source": [
    "In both cases we have reached the same result that was shown in the presentation."
   ],
   "metadata": {
    "collapsed": false
   },
   "id": "eb902b46f5b34aa"
  }
 ],
 "metadata": {
  "kernelspec": {
   "display_name": "Python 3",
   "language": "python",
   "name": "python3"
  },
  "language_info": {
   "codemirror_mode": {
    "name": "ipython",
    "version": 2
   },
   "file_extension": ".py",
   "mimetype": "text/x-python",
   "name": "python",
   "nbconvert_exporter": "python",
   "pygments_lexer": "ipython2",
   "version": "2.7.6"
  }
 },
 "nbformat": 4,
 "nbformat_minor": 5
}
